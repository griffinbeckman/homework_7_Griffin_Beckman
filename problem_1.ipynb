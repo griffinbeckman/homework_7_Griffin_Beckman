{
 "cells": [
  {
   "cell_type": "code",
   "execution_count": 57,
   "metadata": {},
   "outputs": [],
   "source": [
    "import numpy as np\n",
    "import pandas as pd"
   ]
  },
  {
   "cell_type": "code",
   "execution_count": 21,
   "metadata": {},
   "outputs": [],
   "source": [
    "tweet_data = pd.read_json('AOC_recent_tweets.txt')"
   ]
  },
  {
   "cell_type": "code",
   "execution_count": 22,
   "metadata": {},
   "outputs": [
    {
     "name": "stdout",
     "output_type": "stream",
     "text": [
      "                    created_at                   id               id_str  \\\n",
      "0    2021-02-06 20:22:38+00:00  1358149122264563712  1358149122264563712   \n",
      "1    2021-02-06 20:16:39+00:00  1358147616400408576  1358147616400408576   \n",
      "2    2021-02-06 20:07:35+00:00  1358145332316667909  1358145332316667904   \n",
      "3    2021-02-06 20:07:07+00:00  1358145218407759875  1358145218407759872   \n",
      "4    2021-02-06 20:03:06+00:00  1358144207333036040  1358144207333036032   \n",
      "...                        ...                  ...                  ...   \n",
      "3242 2019-10-09 14:14:19+00:00  1181935928249606146  1181935928249606144   \n",
      "3243 2019-10-09 14:00:54+00:00  1181932554552827905  1181932554552827904   \n",
      "3244 2019-10-09 14:00:32+00:00  1181932460516478976  1181932460516478976   \n",
      "3245 2019-10-09 13:41:17+00:00  1181927615340453899  1181927615340453888   \n",
      "3246 2019-10-09 05:32:34+00:00  1181804625588051968  1181804625588051968   \n",
      "\n",
      "                                              full_text  truncated  \\\n",
      "0     RT @RepEscobar: Our country has the moral obli...      False   \n",
      "1     RT @RoKhanna: What happens when we guarantee $...      False   \n",
      "2                     (Source: https://t.co/3o5JEr6zpd)      False   \n",
      "3     Joe Cunningham pledged to never take corporate...      False   \n",
      "4     What’s even more gross is that Mace takes corp...      False   \n",
      "...                                                 ...        ...   \n",
      "3242  Autocrats: “Jump!”\\nTrump: “How high?”\\n\\n- Tr...      False   \n",
      "3243  RT @HeidiNBC: NEW: Donald Trump's decision to ...      False   \n",
      "3244  Trump decision isn’t about drawing down US mil...      False   \n",
      "3245  Federal govs are failing to act on the climate...      False   \n",
      "3246  RT @LeanInOrg: Thank you @AOC for highlighting...      False   \n",
      "\n",
      "     display_text_range                                           entities  \\\n",
      "0              [0, 140]  {'hashtags': [], 'symbols': [], 'user_mentions...   \n",
      "1              [0, 140]  {'hashtags': [], 'symbols': [], 'user_mentions...   \n",
      "2               [0, 33]  {'hashtags': [], 'symbols': [], 'user_mentions...   \n",
      "3              [0, 156]  {'hashtags': [], 'symbols': [], 'user_mentions...   \n",
      "4              [0, 197]  {'hashtags': [], 'symbols': [], 'user_mentions...   \n",
      "...                 ...                                                ...   \n",
      "3242            [0, 73]  {'hashtags': [], 'symbols': [], 'user_mentions...   \n",
      "3243           [0, 140]  {'hashtags': [], 'symbols': [], 'user_mentions...   \n",
      "3244           [0, 279]  {'hashtags': [], 'symbols': [], 'user_mentions...   \n",
      "3245           [0, 283]  {'hashtags': [{'text': 'GreenNewDeal', 'indice...   \n",
      "3246           [0, 140]  {'hashtags': [{'text': 'genderbias', 'indices'...   \n",
      "\n",
      "                                                 source  \\\n",
      "0     <a href=\"http://twitter.com/download/iphone\" r...   \n",
      "1     <a href=\"http://twitter.com/download/iphone\" r...   \n",
      "2     <a href=\"http://twitter.com/download/iphone\" r...   \n",
      "3     <a href=\"http://twitter.com/download/iphone\" r...   \n",
      "4     <a href=\"http://twitter.com/download/iphone\" r...   \n",
      "...                                                 ...   \n",
      "3242  <a href=\"http://twitter.com/download/iphone\" r...   \n",
      "3243  <a href=\"http://twitter.com/download/iphone\" r...   \n",
      "3244  <a href=\"http://twitter.com/download/iphone\" r...   \n",
      "3245  <a href=\"http://twitter.com/download/iphone\" r...   \n",
      "3246  <a href=\"http://twitter.com/download/iphone\" r...   \n",
      "\n",
      "      in_reply_to_status_id  in_reply_to_status_id_str  ...  favorite_count  \\\n",
      "0                       NaN                        NaN  ...               0   \n",
      "1                       NaN                        NaN  ...               0   \n",
      "2              1.358145e+18               1.358145e+18  ...            1026   \n",
      "3              1.358144e+18               1.358144e+18  ...            2880   \n",
      "4                       NaN                        NaN  ...            7765   \n",
      "...                     ...                        ...  ...             ...   \n",
      "3242                    NaN                        NaN  ...           75938   \n",
      "3243                    NaN                        NaN  ...               0   \n",
      "3244                    NaN                        NaN  ...           32256   \n",
      "3245                    NaN                        NaN  ...            7733   \n",
      "3246                    NaN                        NaN  ...               0   \n",
      "\n",
      "      favorited retweeted lang  possibly_sensitive  \\\n",
      "0         False     False   en                 NaN   \n",
      "1         False     False   en                 NaN   \n",
      "2         False     False   en                 0.0   \n",
      "3         False     False   en                 0.0   \n",
      "4         False     False   en                 0.0   \n",
      "...         ...       ...  ...                 ...   \n",
      "3242      False     False   en                 NaN   \n",
      "3243      False     False   en                 NaN   \n",
      "3244      False     False   en                 0.0   \n",
      "3245      False     False   en                 0.0   \n",
      "3246      False     False   en                 NaN   \n",
      "\n",
      "                                      extended_entities  quoted_status_id  \\\n",
      "0                                                   NaN               NaN   \n",
      "1                                                   NaN               NaN   \n",
      "2                                                   NaN               NaN   \n",
      "3     {'media': [{'id': 1358145216155426825, 'id_str...               NaN   \n",
      "4                                                   NaN      1.358113e+18   \n",
      "...                                                 ...               ...   \n",
      "3242                                                NaN               NaN   \n",
      "3243                                                NaN               NaN   \n",
      "3244                                                NaN      1.181923e+18   \n",
      "3245                                                NaN               NaN   \n",
      "3246                                                NaN      1.181696e+18   \n",
      "\n",
      "      quoted_status_id_str                            quoted_status_permalink  \\\n",
      "0                      NaN                                                NaN   \n",
      "1                      NaN                                                NaN   \n",
      "2                      NaN                                                NaN   \n",
      "3                      NaN                                                NaN   \n",
      "4             1.358113e+18  {'url': 'https://t.co/CcVxgDF6id', 'expanded':...   \n",
      "...                    ...                                                ...   \n",
      "3242                   NaN                                                NaN   \n",
      "3243                   NaN                                                NaN   \n",
      "3244          1.181923e+18  {'url': 'https://t.co/ODpoyZI83r', 'expanded':...   \n",
      "3245                   NaN                                                NaN   \n",
      "3246          1.181696e+18  {'url': 'https://t.co/S9q3D4wGcb', 'expanded':...   \n",
      "\n",
      "                                          quoted_status  \n",
      "0                                                   NaN  \n",
      "1                                                   NaN  \n",
      "2                                                   NaN  \n",
      "3                                                   NaN  \n",
      "4     {'created_at': 'Sat Feb 06 18:00:02 +0000 2021...  \n",
      "...                                                 ...  \n",
      "3242                                                NaN  \n",
      "3243                                                NaN  \n",
      "3244  {'created_at': 'Wed Oct 09 13:22:07 +0000 2019...  \n",
      "3245                                                NaN  \n",
      "3246                                                NaN  \n",
      "\n",
      "[3247 rows x 31 columns]\n"
     ]
    }
   ],
   "source": [
    "print(tweet_data)\n"
   ]
  },
  {
   "cell_type": "code",
   "execution_count": 23,
   "metadata": {},
   "outputs": [
    {
     "name": "stdout",
     "output_type": "stream",
     "text": [
      "0       1358149122264563712\n",
      "1       1358147616400408576\n",
      "2       1358145332316667909\n",
      "3       1358145218407759875\n",
      "4       1358144207333036040\n",
      "               ...         \n",
      "3242    1181935928249606146\n",
      "3243    1181932554552827905\n",
      "3244    1181932460516478976\n",
      "3245    1181927615340453899\n",
      "3246    1181804625588051968\n",
      "Name: id, Length: 3247, dtype: int64\n"
     ]
    }
   ],
   "source": [
    "tweet_id = tweet_data.loc[0:3246,'id']\n",
    "print(tweet_id)"
   ]
  },
  {
   "cell_type": "code",
   "execution_count": 25,
   "metadata": {},
   "outputs": [
    {
     "name": "stdout",
     "output_type": "stream",
     "text": [
      "0      2021-02-06 20:22:38+00:00\n",
      "1      2021-02-06 20:16:39+00:00\n",
      "2      2021-02-06 20:07:35+00:00\n",
      "3      2021-02-06 20:07:07+00:00\n",
      "4      2021-02-06 20:03:06+00:00\n",
      "                  ...           \n",
      "3242   2019-10-09 14:14:19+00:00\n",
      "3243   2019-10-09 14:00:54+00:00\n",
      "3244   2019-10-09 14:00:32+00:00\n",
      "3245   2019-10-09 13:41:17+00:00\n",
      "3246   2019-10-09 05:32:34+00:00\n",
      "Name: created_at, Length: 3247, dtype: datetime64[ns, UTC]\n"
     ]
    }
   ],
   "source": [
    "tweet_created_at = tweet_data.loc[0:3246,'created_at']\n",
    "print(tweet_created_at)"
   ]
  },
  {
   "cell_type": "code",
   "execution_count": 26,
   "metadata": {},
   "outputs": [],
   "source": [
    "import datetime \n",
    "from datetime import datetime"
   ]
  },
  {
   "cell_type": "code",
   "execution_count": 52,
   "metadata": {},
   "outputs": [
    {
     "name": "stdout",
     "output_type": "stream",
     "text": [
      "      time_in_hours\n",
      "0         20.372778\n",
      "1         20.271111\n",
      "2         20.118611\n",
      "3         20.118611\n",
      "4         20.050833\n",
      "...             ...\n",
      "3242      14.237222\n",
      "3243      14.000000\n",
      "3244      14.000000\n",
      "3245      13.694722\n",
      "3246       5.542222\n",
      "\n",
      "[3247 rows x 1 columns]\n",
      "      time_in_hours\n",
      "0         20.372778\n",
      "1         20.271111\n",
      "2         20.118611\n",
      "3         20.118611\n",
      "4         20.050833\n",
      "...             ...\n",
      "3242      14.237222\n",
      "3243      14.000000\n",
      "3244      14.000000\n",
      "3245      13.694722\n",
      "3246       5.542222\n",
      "\n",
      "[3247 rows x 1 columns]\n"
     ]
    }
   ],
   "source": [
    "def time_in_hours(file):\n",
    "    tweet_time = file.loc[0:3246,'created_at']\n",
    "    #for row in tweet_time:\n",
    "    #    time = row.time()\n",
    "    #    row_new = time.hour + (time.minute)/60 + (time.minute)/(60**2)\n",
    "    #    df1 = pd.DataFrame({'created_at':[row_new]})\n",
    "    df = pd.concat([pd.DataFrame([row.time().hour + (row.time().minute)/60 + (row.time().minute)/(60**2)], columns=['time_in_hours']) for row in tweet_time], ignore_index=True,)\n",
    "    print(df)\n",
    "    return df\n",
    "\n",
    "created_at_dataframe = time_in_hours(tweet_data)\n",
    "print(created_at_dataframe)"
   ]
  },
  {
   "cell_type": "code",
   "execution_count": 53,
   "metadata": {},
   "outputs": [
    {
     "name": "stdout",
     "output_type": "stream",
     "text": [
      "                    created_at\n",
      "0    2021-02-06 20:22:38+00:00\n",
      "1    2021-02-06 20:16:39+00:00\n",
      "2    2021-02-06 20:07:35+00:00\n",
      "3    2021-02-06 20:07:07+00:00\n",
      "4    2021-02-06 20:03:06+00:00\n",
      "...                        ...\n",
      "3242 2019-10-09 14:14:19+00:00\n",
      "3243 2019-10-09 14:00:54+00:00\n",
      "3244 2019-10-09 14:00:32+00:00\n",
      "3245 2019-10-09 13:41:17+00:00\n",
      "3246 2019-10-09 05:32:34+00:00\n",
      "\n",
      "[3247 rows x 1 columns]\n",
      "                                              full_text\n",
      "0     RT @RepEscobar: Our country has the moral obli...\n",
      "1     RT @RoKhanna: What happens when we guarantee $...\n",
      "2                     (Source: https://t.co/3o5JEr6zpd)\n",
      "3     Joe Cunningham pledged to never take corporate...\n",
      "4     What’s even more gross is that Mace takes corp...\n",
      "...                                                 ...\n",
      "3242  Autocrats: “Jump!”\\nTrump: “How high?”\\n\\n- Tr...\n",
      "3243  RT @HeidiNBC: NEW: Donald Trump's decision to ...\n",
      "3244  Trump decision isn’t about drawing down US mil...\n",
      "3245  Federal govs are failing to act on the climate...\n",
      "3246  RT @LeanInOrg: Thank you @AOC for highlighting...\n",
      "\n",
      "[3247 rows x 1 columns]\n"
     ]
    }
   ],
   "source": [
    "creation_time = tweet_data.loc[0:3246,'created_at']\n",
    "full_text = tweet_data.loc[0:3246,'full_text']\n",
    "creation_time_df = pd.DataFrame({'created_at':creation_time})\n",
    "full_text_df = pd.DataFrame({'full_text':full_text})\n",
    "print(creation_time_df)\n",
    "print(full_text_df)"
   ]
  },
  {
   "cell_type": "code",
   "execution_count": 54,
   "metadata": {},
   "outputs": [
    {
     "name": "stdout",
     "output_type": "stream",
     "text": [
      "      time_in_hours                created_at  \\\n",
      "0         20.372778 2021-02-06 20:22:38+00:00   \n",
      "1         20.271111 2021-02-06 20:16:39+00:00   \n",
      "2         20.118611 2021-02-06 20:07:35+00:00   \n",
      "3         20.118611 2021-02-06 20:07:07+00:00   \n",
      "4         20.050833 2021-02-06 20:03:06+00:00   \n",
      "...             ...                       ...   \n",
      "3242      14.237222 2019-10-09 14:14:19+00:00   \n",
      "3243      14.000000 2019-10-09 14:00:54+00:00   \n",
      "3244      14.000000 2019-10-09 14:00:32+00:00   \n",
      "3245      13.694722 2019-10-09 13:41:17+00:00   \n",
      "3246       5.542222 2019-10-09 05:32:34+00:00   \n",
      "\n",
      "                                              full_text  \n",
      "0     RT @RepEscobar: Our country has the moral obli...  \n",
      "1     RT @RoKhanna: What happens when we guarantee $...  \n",
      "2                     (Source: https://t.co/3o5JEr6zpd)  \n",
      "3     Joe Cunningham pledged to never take corporate...  \n",
      "4     What’s even more gross is that Mace takes corp...  \n",
      "...                                                 ...  \n",
      "3242  Autocrats: “Jump!”\\nTrump: “How high?”\\n\\n- Tr...  \n",
      "3243  RT @HeidiNBC: NEW: Donald Trump's decision to ...  \n",
      "3244  Trump decision isn’t about drawing down US mil...  \n",
      "3245  Federal govs are failing to act on the climate...  \n",
      "3246  RT @LeanInOrg: Thank you @AOC for highlighting...  \n",
      "\n",
      "[3247 rows x 3 columns]\n"
     ]
    }
   ],
   "source": [
    "final_dataframe = pd.concat([created_at_dataframe, creation_time_df, full_text_df], axis=1)\n",
    "print(final_dataframe)"
   ]
  },
  {
   "cell_type": "code",
   "execution_count": 55,
   "metadata": {},
   "outputs": [],
   "source": [
    "final_dataframe.to_csv('final_dataframe')"
   ]
  }
 ],
 "metadata": {
  "kernelspec": {
   "display_name": "Python 3",
   "language": "python",
   "name": "python3"
  },
  "language_info": {
   "codemirror_mode": {
    "name": "ipython",
    "version": 3
   },
   "file_extension": ".py",
   "mimetype": "text/x-python",
   "name": "python",
   "nbconvert_exporter": "python",
   "pygments_lexer": "ipython3",
   "version": "3.9.12"
  }
 },
 "nbformat": 4,
 "nbformat_minor": 2
}
